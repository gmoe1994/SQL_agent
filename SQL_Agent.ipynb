{
 "cells": [
  {
   "cell_type": "code",
   "execution_count": 2,
   "id": "initial_id",
   "metadata": {
    "collapsed": true,
    "ExecuteTime": {
     "end_time": "2024-02-12T10:56:43.705892200Z",
     "start_time": "2024-02-12T10:56:43.255815Z"
    }
   },
   "outputs": [
    {
     "data": {
      "text/plain": "True"
     },
     "execution_count": 2,
     "metadata": {},
     "output_type": "execute_result"
    }
   ],
   "source": [
    "from dotenv import load_dotenv, find_dotenv\n",
    "from langchain_community.utilities import SQLDatabase\n",
    "\n",
    "load_dotenv(find_dotenv())"
   ]
  },
  {
   "cell_type": "code",
   "outputs": [
    {
     "name": "stdout",
     "output_type": "stream",
     "text": [
      "sqlite\n",
      "['Album', 'Artist', 'Customer', 'Employee', 'Genre', 'Invoice', 'InvoiceLine', 'MediaType', 'Playlist', 'PlaylistTrack', 'Track']\n"
     ]
    },
    {
     "data": {
      "text/plain": "\"[(1, 'AC/DC'), (2, 'Accept'), (3, 'Aerosmith'), (4, 'Alanis Morissette'), (5, 'Alice In Chains'), (6, 'Antônio Carlos Jobim'), (7, 'Apocalyptica'), (8, 'Audioslave'), (9, 'BackBeat'), (10, 'Billy Cobham')]\""
     },
     "execution_count": 3,
     "metadata": {},
     "output_type": "execute_result"
    }
   ],
   "source": [
    "db = SQLDatabase.from_uri(\"sqlite:///Chinook.db\")\n",
    "print(db.dialect)\n",
    "print(db.get_usable_table_names())\n",
    "db.run(\"SELECT * FROM Artist LIMIT 10;\")"
   ],
   "metadata": {
    "collapsed": false,
    "ExecuteTime": {
     "end_time": "2024-02-12T10:56:43.754946600Z",
     "start_time": "2024-02-12T10:56:43.705892200Z"
    }
   },
   "id": "a06a9066caf0ffba",
   "execution_count": 3
  },
  {
   "cell_type": "code",
   "outputs": [],
   "source": [
    "\n",
    "examples = [\n",
    "    {\"input\": \"List all artists.\", \"query\": \"SELECT * FROM Artist;\"},\n",
    "    {\n",
    "        \"input\": \"Find all albums for the artist 'AC/DC'.\",\n",
    "        \"query\": \"SELECT * FROM Album WHERE ArtistId = (SELECT ArtistId FROM Artist WHERE Name = 'AC/DC');\",\n",
    "    },\n",
    "    {\n",
    "        \"input\": \"how much of the total revenue was related to black sabbath track sales?\",\n",
    "        \"query\": \"SELECT SUM(Total) FROM Invoice WHERE InvoiceId IN (SELECT InvoiceId FROM InvoiceLine WHERE TrackId IN (SELECT TrackId FROM Track WHERE AlbumId IN (SELECT AlbumId FROM Album WHERE ArtistId IN (SELECT ArtistId FROM Artist WHERE Name = 'Black Sabbath'))));\",\n",
    "    },\n",
    "    {\n",
    "        \"input\": \"List all tracks in the 'Rock' genre.\",\n",
    "        \"query\": \"SELECT * FROM Track WHERE GenreId = (SELECT GenreId FROM Genre WHERE Name = 'Rock');\",\n",
    "    },\n",
    "    {\n",
    "        \"input\": \"Find the total duration of all tracks.\",\n",
    "        \"query\": \"SELECT SUM(Milliseconds) FROM Track;\",\n",
    "    },\n",
    "    {\n",
    "        \"input\": \"List all customers from Canada.\",\n",
    "        \"query\": \"SELECT * FROM Customer WHERE Country = 'Canada';\",\n",
    "    },\n",
    "    {\n",
    "        \"input\": \"How many tracks are there in the album with ID 5?\",\n",
    "        \"query\": \"SELECT COUNT(*) FROM Track WHERE AlbumId = 5;\",\n",
    "    },\n",
    "    {\n",
    "        \"input\": \"Find the total number of invoices.\",\n",
    "        \"query\": \"SELECT COUNT(*) FROM Invoice;\",\n",
    "    },\n",
    "    {\n",
    "        \"input\": \"List all tracks that are longer than 5 minutes.\",\n",
    "        \"query\": \"SELECT * FROM Track WHERE Milliseconds > 300000;\",\n",
    "    },\n",
    "    {\n",
    "        \"input\": \"Who are the top 5 customers by total purchase?\",\n",
    "        \"query\": \"SELECT CustomerId, SUM(Total) AS TotalPurchase FROM Invoice GROUP BY CustomerId ORDER BY TotalPurchase DESC LIMIT 5;\",\n",
    "    },\n",
    "    {\n",
    "        \"input\": \"Which albums are from the year 2000?\",\n",
    "        \"query\": \"SELECT * FROM Album WHERE strftime('%Y', ReleaseDate) = '2000';\",\n",
    "    },\n",
    "    {\n",
    "        \"input\": \"How many employees are there\",\n",
    "        \"query\": 'SELECT COUNT(*) FROM \"Employee\"',\n",
    "    },\n",
    "]"
   ],
   "metadata": {
    "collapsed": false,
    "ExecuteTime": {
     "end_time": "2024-02-12T10:56:43.755962Z",
     "start_time": "2024-02-12T10:56:43.743504800Z"
    }
   },
   "id": "7f9c38a9115ae3f8",
   "execution_count": 4
  },
  {
   "cell_type": "code",
   "outputs": [],
   "source": [
    "from langchain_community.vectorstores import Annoy\n",
    "from langchain_core.example_selectors import SemanticSimilarityExampleSelector\n",
    "from langchain_openai import OpenAIEmbeddings\n",
    "\n",
    "#Consider changing to Milvus vector database\n",
    "\n",
    "example_selector = SemanticSimilarityExampleSelector.from_examples(\n",
    "    examples,\n",
    "    OpenAIEmbeddings(),\n",
    "    Annoy,\n",
    "    k=5,\n",
    "    input_keys=[\"input\"],\n",
    ")"
   ],
   "metadata": {
    "collapsed": false,
    "ExecuteTime": {
     "end_time": "2024-02-12T10:56:46.206875400Z",
     "start_time": "2024-02-12T10:56:43.748093400Z"
    }
   },
   "id": "b6f43cc59de4d88f",
   "execution_count": 5
  },
  {
   "cell_type": "code",
   "outputs": [],
   "source": [
    "from langchain_core.prompts import (\n",
    "    ChatPromptTemplate,\n",
    "    FewShotPromptTemplate,\n",
    "    MessagesPlaceholder,\n",
    "    PromptTemplate,\n",
    "    SystemMessagePromptTemplate,\n",
    ")\n",
    "\n",
    "system_prefix = \"\"\"You are an agent designed to interact with a SQL database.\n",
    "Given an input question, create a syntactically correct {dialect} query to run, then look at the results of the query and return the answer.\n",
    "Unless the user specifies a specific number of examples they wish to obtain, always limit your query to at most {top_k} results.\n",
    "You can order the results by a relevant column to return the most interesting examples in the database.\n",
    "Never query for all the columns from a specific table, only ask for the relevant columns given the question.\n",
    "You have access to tools for interacting with the database.\n",
    "Only use the given tools. Only use the information returned by the tools to construct your final answer.\n",
    "You MUST double check your query before executing it. If you get an error while executing a query, rewrite the query and try again.\n",
    "\n",
    "DO NOT make any DML statements (INSERT, UPDATE, DELETE, DROP etc.) to the database.\n",
    "\n",
    "If the question does not seem related to the database, just return \"I don't know\" as the answer.\n",
    "\n",
    "Here are some examples of user inputs and their corresponding SQL queries:\"\"\"\n",
    "\n",
    "few_shot_prompt = FewShotPromptTemplate(\n",
    "    example_selector=example_selector,\n",
    "    example_prompt=PromptTemplate.from_template(\n",
    "        \"User input: {input}\\nSQL query: {query}\"\n",
    "    ),\n",
    "    input_variables=[\"input\", \"dialect\", \"top_k\"],\n",
    "    prefix=system_prefix,\n",
    "    suffix=\"\",\n",
    ")"
   ],
   "metadata": {
    "collapsed": false,
    "ExecuteTime": {
     "end_time": "2024-02-12T10:56:46.214089100Z",
     "start_time": "2024-02-12T10:56:46.209104400Z"
    }
   },
   "id": "7c4cce9f2dca952f",
   "execution_count": 6
  },
  {
   "cell_type": "code",
   "outputs": [],
   "source": [
    "full_prompt = ChatPromptTemplate.from_messages(\n",
    "    [\n",
    "        SystemMessagePromptTemplate(prompt=few_shot_prompt),\n",
    "        (\"human\", \"{input}\"),\n",
    "        MessagesPlaceholder(\"agent_scratchpad\"),\n",
    "    ]\n",
    ")"
   ],
   "metadata": {
    "collapsed": false,
    "ExecuteTime": {
     "end_time": "2024-02-12T10:56:46.227975900Z",
     "start_time": "2024-02-12T10:56:46.212987600Z"
    }
   },
   "id": "303d5538acb48c08",
   "execution_count": 7
  },
  {
   "cell_type": "code",
   "outputs": [
    {
     "data": {
      "text/plain": "['Academy of St. Martin in the Fields & Sir Neville Marriner',\n 'Santana Feat. Eric Clapton',\n 'Black Eyed Peas',\n 'Habib Koité and Bamada',\n 'Cássia Eller',\n 'Baby Consuelo',\n 'Zeca Pagodinho',\n 'Buddy Guy',\n 'Pedro Luís E A Parede',\n 'Lenny Kravitz',\n 'The  Cellists of The Berlin Philharmonic',\n 'Azymuth',\n 'Kid Abelha',\n 'Jaguares',\n 'Sandra De Sá',\n 'Wilhelm Kempff',\n 'Academy of St. Martin in the Fields Chamber Ensemble & Sir Neville Marriner',\n \"The King's Singers\",\n 'Dread Zeppelin',\n 'The Office',\n 'Otto Klemperer & Philharmonia Orchestra',\n \"Charles Dutoit & L'Orchestre Symphonique de Montréal\",\n 'Eric Clapton',\n 'Adrian Leaper & Doreen de Feis',\n 'The Flaming Lips',\n 'Van Halen',\n 'Pink Floyd',\n 'Instituto',\n 'Funk Como Le Gusta',\n 'Mundo Livre S/A',\n 'Roger Norrington, London Classical Players',\n 'Hermeto Pascoal',\n 'Milton Nascimento',\n 'Iron Maiden',\n \"Guns N' Roses\",\n 'Nando Reis',\n 'Velvet Revolver',\n 'Aaron Goldberg',\n 'Page & Plant',\n 'Heroes',\n 'Berliner Philharmoniker & Herbert Von Karajan',\n 'Marcos Valle',\n 'The Police',\n 'A Cor Do Som',\n 'Academy of St. Martin in the Fields, Sir Neville Marriner & William Bennett',\n \"Aerosmith & Sierra Leone's Refugee Allstars\",\n 'Itzhak Perlman',\n 'Bebel Gilberto',\n 'Equale Brass Ensemble, John Eliot Gardiner & Munich Monteverdi Orchestra and Choir',\n 'Luciano Pavarotti']"
     },
     "execution_count": 8,
     "metadata": {},
     "output_type": "execute_result"
    }
   ],
   "source": [
    "import ast\n",
    "import re\n",
    "\n",
    "\n",
    "def query_as_list(db, query):\n",
    "    res = db.run(query)\n",
    "    res = [el for sub in ast.literal_eval(res) for el in sub if el]\n",
    "    res = [re.sub(r\"\\b\\d+\\b\", \"\", string).strip() for string in res]\n",
    "    return list(set(res))\n",
    "\n",
    "\n",
    "artists = query_as_list(db, \"SELECT Name FROM Artist\")\n",
    "albums = query_as_list(db, \"SELECT Title FROM Album\")\n",
    "artists[:50]"
   ],
   "metadata": {
    "collapsed": false,
    "ExecuteTime": {
     "end_time": "2024-02-12T10:56:46.240428900Z",
     "start_time": "2024-02-12T10:56:46.223465400Z"
    }
   },
   "id": "3000bd894631cb7d",
   "execution_count": 8
  },
  {
   "cell_type": "code",
   "outputs": [],
   "source": [
    "from langchain.agents.agent_toolkits import create_retriever_tool\n",
    "\n",
    "vector_db = Annoy.from_texts(artists + albums, OpenAIEmbeddings())\n",
    "retriever = vector_db.as_retriever(search_kwargs={\"k\": 5})\n",
    "description = \"\"\"Use to look up values to filter on. Input is an approximate spelling of the proper noun, output is \\\n",
    "valid proper nouns. Use the noun most similar to the search.\"\"\"\n",
    "retriever_tool = create_retriever_tool(\n",
    "    retriever,\n",
    "    name=\"search_proper_nouns\",\n",
    "    description=description,\n",
    ")"
   ],
   "metadata": {
    "collapsed": false,
    "ExecuteTime": {
     "end_time": "2024-02-12T10:56:50.636830Z",
     "start_time": "2024-02-12T10:56:46.239168500Z"
    }
   },
   "id": "ac6a70ab17cd97a5",
   "execution_count": 9
  },
  {
   "cell_type": "code",
   "outputs": [],
   "source": [
    "from langchain.agents import AgentType\n",
    "from langchain_community.agent_toolkits import create_sql_agent, SQLDatabaseToolkit\n",
    "from langchain_openai import ChatOpenAI\n",
    "\n",
    "llm = ChatOpenAI(model=\"gpt-3.5-turbo\", temperature=0)\n",
    "\n",
    "agent = create_sql_agent(\n",
    "    llm=llm,\n",
    "    db=db,\n",
    "    prompt=full_prompt,\n",
    "    verbose=True,\n",
    "    agent_type=\"openai-tools\",\n",
    ")"
   ],
   "metadata": {
    "collapsed": false,
    "ExecuteTime": {
     "end_time": "2024-02-12T10:56:51.227160200Z",
     "start_time": "2024-02-12T10:56:50.636830Z"
    }
   },
   "id": "1d7ba3af7cb9354f",
   "execution_count": 10
  },
  {
   "cell_type": "markdown",
   "source": [
    "agent.invoke(\n",
    "    \"What was the total revenue from all sales?\"\n",
    ")"
   ],
   "metadata": {
    "collapsed": false
   },
   "id": "d4cdc39c845c485d"
  },
  {
   "cell_type": "markdown",
   "source": [
    "agent.invoke(\n",
    "    \"which album contributed the most to the total revenue?\"\n",
    ")"
   ],
   "metadata": {
    "collapsed": false
   },
   "id": "ad0382b520fcdc9f"
  },
  {
   "cell_type": "markdown",
   "source": [
    "agent.invoke(\n",
    "    \"Which country is most likely to listen to rock music?\"\n",
    ")"
   ],
   "metadata": {
    "collapsed": false
   },
   "id": "807951a6c52980f7"
  },
  {
   "cell_type": "markdown",
   "source": [
    "agent.invoke(\n",
    "    \"How many albums does blacksabbath have?\"\n",
    ")\n",
    "\n",
    "# agent.invoke(\n",
    "#     \"How many albums does alis in chain have?\"\n",
    "# )"
   ],
   "metadata": {
    "collapsed": false
   },
   "id": "756f1aa9fe87de1b"
  },
  {
   "cell_type": "markdown",
   "source": [
    "agent.invoke(\"How many albums where sold in the usa?\")\n",
    "\n",
    "# agent.invoke(\"How many albums where sold in USA?\")"
   ],
   "metadata": {
    "collapsed": false
   },
   "id": "227c6ba42f705992"
  },
  {
   "cell_type": "code",
   "outputs": [
    {
     "name": "stdout",
     "output_type": "stream",
     "text": [
      "\n",
      "\n",
      "\u001B[1m> Entering new AgentExecutor chain...\u001B[0m\n",
      "\u001B[32;1m\u001B[1;3m\n",
      "Invoking: `sql_db_query` with `SELECT SUM(UnitPrice * Quantity) AS Revenue FROM InvoiceLine WHERE TrackId IN (SELECT TrackId FROM Track WHERE AlbumId IN (SELECT AlbumId FROM Album WHERE ArtistId IN (SELECT ArtistId FROM Artist WHERE Name = 'AC/DC')))`\n",
      "\n",
      "\n",
      "\u001B[0m\u001B[36;1m\u001B[1;3m[(15.84,)]\u001B[0m\u001B[32;1m\u001B[1;3mThe total revenue related to AC/DC track sales is $15.84.\u001B[0m\n",
      "\n",
      "\u001B[1m> Finished chain.\u001B[0m\n",
      "\n",
      "\n",
      "\u001B[1m> Entering new AgentExecutor chain...\u001B[0m\n",
      "\u001B[32;1m\u001B[1;3m\n",
      "Invoking: `sql_db_query` with `SELECT SUM(Total) FROM Invoice WHERE InvoiceId IN (SELECT InvoiceId FROM InvoiceLine WHERE TrackId IN (SELECT TrackId FROM Track WHERE AlbumId IN (SELECT AlbumId FROM Album WHERE ArtistId IN (SELECT ArtistId FROM Artist WHERE Name = 'Led Zeppelin'))))`\n",
      "\n",
      "\n",
      "\u001B[0m\u001B[36;1m\u001B[1;3m[(204.93,)]\u001B[0m\u001B[32;1m\u001B[1;3mThe total revenue related to Led Zeppelin track sales is $204.93.\u001B[0m\n",
      "\n",
      "\u001B[1m> Finished chain.\u001B[0m\n"
     ]
    },
    {
     "data": {
      "text/plain": "{'input': 'how much of the total revenue was related led zeppelin track sales?',\n 'output': 'The total revenue related to Led Zeppelin track sales is $204.93.'}"
     },
     "execution_count": 12,
     "metadata": {},
     "output_type": "execute_result"
    }
   ],
   "source": [
    "agent.invoke(\"how much of the total revenue was related ac/dc track sales?\")\n",
    "agent.invoke(\"how much of the total revenue was related led zeppelin track sales?\")"
   ],
   "metadata": {
    "collapsed": false,
    "ExecuteTime": {
     "end_time": "2024-02-12T11:04:50.045904300Z",
     "start_time": "2024-02-12T11:04:38.981706300Z"
    }
   },
   "id": "b833aedfea926aa0",
   "execution_count": 12
  },
  {
   "cell_type": "code",
   "outputs": [],
   "source": [],
   "metadata": {
    "collapsed": false,
    "ExecuteTime": {
     "end_time": "2024-02-12T10:57:01.217104Z",
     "start_time": "2024-02-12T10:57:01.206519900Z"
    }
   },
   "id": "d1cf0a7c976101fa",
   "execution_count": 11
  }
 ],
 "metadata": {
  "kernelspec": {
   "display_name": "Python 3",
   "language": "python",
   "name": "python3"
  },
  "language_info": {
   "codemirror_mode": {
    "name": "ipython",
    "version": 2
   },
   "file_extension": ".py",
   "mimetype": "text/x-python",
   "name": "python",
   "nbconvert_exporter": "python",
   "pygments_lexer": "ipython2",
   "version": "2.7.6"
  }
 },
 "nbformat": 4,
 "nbformat_minor": 5
}
