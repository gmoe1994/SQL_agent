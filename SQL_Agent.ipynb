{
 "cells": [
  {
   "cell_type": "code",
   "execution_count": 108,
   "id": "initial_id",
   "metadata": {
    "collapsed": true,
    "ExecuteTime": {
     "end_time": "2024-02-05T11:55:16.690716200Z",
     "start_time": "2024-02-05T11:55:16.683659300Z"
    }
   },
   "outputs": [
    {
     "data": {
      "text/plain": "True"
     },
     "execution_count": 108,
     "metadata": {},
     "output_type": "execute_result"
    }
   ],
   "source": [
    "from dotenv import load_dotenv, find_dotenv\n",
    "from langchain_community.utilities import SQLDatabase\n",
    "\n",
    "load_dotenv(find_dotenv())"
   ]
  },
  {
   "cell_type": "code",
   "outputs": [
    {
     "name": "stdout",
     "output_type": "stream",
     "text": [
      "sqlite\n",
      "['Album', 'Artist', 'Customer', 'Employee', 'Genre', 'Invoice', 'InvoiceLine', 'MediaType', 'Playlist', 'PlaylistTrack', 'Track']\n"
     ]
    },
    {
     "data": {
      "text/plain": "\"[(1, 'AC/DC'), (2, 'Accept'), (3, 'Aerosmith'), (4, 'Alanis Morissette'), (5, 'Alice In Chains'), (6, 'Antônio Carlos Jobim'), (7, 'Apocalyptica'), (8, 'Audioslave'), (9, 'BackBeat'), (10, 'Billy Cobham')]\""
     },
     "execution_count": 109,
     "metadata": {},
     "output_type": "execute_result"
    }
   ],
   "source": [
    "db = SQLDatabase.from_uri(\"sqlite:///Chinook.db\")\n",
    "print(db.dialect)\n",
    "print(db.get_usable_table_names())\n",
    "db.run(\"SELECT * FROM Artist LIMIT 10;\")"
   ],
   "metadata": {
    "collapsed": false,
    "ExecuteTime": {
     "end_time": "2024-02-05T11:55:16.714290100Z",
     "start_time": "2024-02-05T11:55:16.694716800Z"
    }
   },
   "id": "a06a9066caf0ffba",
   "execution_count": 109
  },
  {
   "cell_type": "code",
   "outputs": [],
   "source": [
    "\n",
    "examples = [\n",
    "    {\"input\": \"List all artists.\", \"query\": \"SELECT * FROM Artist;\"},\n",
    "    {\n",
    "        \"input\": \"Find all albums for the artist 'AC/DC'.\",\n",
    "        \"query\": \"SELECT * FROM Album WHERE ArtistId = (SELECT ArtistId FROM Artist WHERE Name = 'AC/DC');\",\n",
    "    },\n",
    "    {\n",
    "        \"input\": \"List all tracks in the 'Rock' genre.\",\n",
    "        \"query\": \"SELECT * FROM Track WHERE GenreId = (SELECT GenreId FROM Genre WHERE Name = 'Rock');\",\n",
    "    },\n",
    "    {\n",
    "        \"input\": \"Find the total duration of all tracks.\",\n",
    "        \"query\": \"SELECT SUM(Milliseconds) FROM Track;\",\n",
    "    },\n",
    "    {\n",
    "        \"input\": \"List all customers from Canada.\",\n",
    "        \"query\": \"SELECT * FROM Customer WHERE Country = 'Canada';\",\n",
    "    },\n",
    "    {\n",
    "        \"input\": \"How many tracks are there in the album with ID 5?\",\n",
    "        \"query\": \"SELECT COUNT(*) FROM Track WHERE AlbumId = 5;\",\n",
    "    },\n",
    "    {\n",
    "        \"input\": \"Find the total number of invoices.\",\n",
    "        \"query\": \"SELECT COUNT(*) FROM Invoice;\",\n",
    "    },\n",
    "    {\n",
    "        \"input\": \"List all tracks that are longer than 5 minutes.\",\n",
    "        \"query\": \"SELECT * FROM Track WHERE Milliseconds > 300000;\",\n",
    "    },\n",
    "    {\n",
    "        \"input\": \"Who are the top 5 customers by total purchase?\",\n",
    "        \"query\": \"SELECT CustomerId, SUM(Total) AS TotalPurchase FROM Invoice GROUP BY CustomerId ORDER BY TotalPurchase DESC LIMIT 5;\",\n",
    "    },\n",
    "    {\n",
    "        \"input\": \"Which albums are from the year 2000?\",\n",
    "        \"query\": \"SELECT * FROM Album WHERE strftime('%Y', ReleaseDate) = '2000';\",\n",
    "    },\n",
    "    {\n",
    "        \"input\": \"How many employees are there\",\n",
    "        \"query\": 'SELECT COUNT(*) FROM \"Employee\"',\n",
    "    },\n",
    "]"
   ],
   "metadata": {
    "collapsed": false,
    "ExecuteTime": {
     "end_time": "2024-02-05T11:57:56.207884900Z",
     "start_time": "2024-02-05T11:57:56.200772700Z"
    }
   },
   "id": "7f9c38a9115ae3f8",
   "execution_count": 122
  },
  {
   "cell_type": "code",
   "outputs": [],
   "source": [
    "from langchain_community.vectorstores import Annoy\n",
    "from langchain_core.example_selectors import SemanticSimilarityExampleSelector\n",
    "from langchain_openai import OpenAIEmbeddings\n",
    "\n",
    "example_selector = SemanticSimilarityExampleSelector.from_examples(\n",
    "    examples,\n",
    "    OpenAIEmbeddings(),\n",
    "    Annoy,\n",
    "    k=5,\n",
    "    input_keys=[\"input\"],\n",
    ")"
   ],
   "metadata": {
    "collapsed": false,
    "ExecuteTime": {
     "end_time": "2024-02-05T11:55:17.834110900Z",
     "start_time": "2024-02-05T11:55:16.716800500Z"
    }
   },
   "id": "b6f43cc59de4d88f",
   "execution_count": 111
  },
  {
   "cell_type": "code",
   "outputs": [],
   "source": [
    "from langchain_core.prompts import (\n",
    "    ChatPromptTemplate,\n",
    "    FewShotPromptTemplate,\n",
    "    MessagesPlaceholder,\n",
    "    PromptTemplate,\n",
    "    SystemMessagePromptTemplate,\n",
    ")\n",
    "\n",
    "system_prefix = \"\"\"You are an agent designed to interact with a SQL database.\n",
    "Given an input question, create a syntactically correct {dialect} query to run, then look at the results of the query and return the answer.\n",
    "Unless the user specifies a specific number of examples they wish to obtain, always limit your query to at most {top_k} results.\n",
    "You can order the results by a relevant column to return the most interesting examples in the database.\n",
    "Never query for all the columns from a specific table, only ask for the relevant columns given the question.\n",
    "You have access to tools for interacting with the database.\n",
    "Only use the given tools. Only use the information returned by the tools to construct your final answer.\n",
    "You MUST double check your query before executing it. If you get an error while executing a query, rewrite the query and try again.\n",
    "\n",
    "DO NOT make any DML statements (INSERT, UPDATE, DELETE, DROP etc.) to the database.\n",
    "\n",
    "If the question does not seem related to the database, just return \"I don't know\" as the answer.\n",
    "\n",
    "Here are some examples of user inputs and their corresponding SQL queries:\"\"\"\n",
    "\n",
    "few_shot_prompt = FewShotPromptTemplate(\n",
    "    example_selector=example_selector,\n",
    "    example_prompt=PromptTemplate.from_template(\n",
    "        \"User input: {input}\\nSQL query: {query}\"\n",
    "    ),\n",
    "    input_variables=[\"input\", \"dialect\", \"top_k\"],\n",
    "    prefix=system_prefix,\n",
    "    suffix=\"\",\n",
    ")"
   ],
   "metadata": {
    "collapsed": false,
    "ExecuteTime": {
     "end_time": "2024-02-05T11:55:17.840381700Z",
     "start_time": "2024-02-05T11:55:17.836617800Z"
    }
   },
   "id": "7c4cce9f2dca952f",
   "execution_count": 112
  },
  {
   "cell_type": "code",
   "outputs": [],
   "source": [
    "full_prompt = ChatPromptTemplate.from_messages(\n",
    "    [\n",
    "        SystemMessagePromptTemplate(prompt=few_shot_prompt),\n",
    "        (\"human\", \"{input}\"),\n",
    "        MessagesPlaceholder(\"agent_scratchpad\"),\n",
    "    ]\n",
    ")"
   ],
   "metadata": {
    "collapsed": false,
    "ExecuteTime": {
     "end_time": "2024-02-05T11:55:17.845594Z",
     "start_time": "2024-02-05T11:55:17.839381600Z"
    }
   },
   "id": "303d5538acb48c08",
   "execution_count": 113
  },
  {
   "cell_type": "code",
   "outputs": [
    {
     "data": {
      "text/plain": "['Los Lonely Boys',\n 'Santana Feat. The Project G&B',\n 'Aquaman',\n 'Sir Georg Solti & Wiener Philharmoniker',\n 'Les Arts Florissants & William Christie',\n 'Foo Fighters',\n 'Santana Feat. Rob Thomas',\n 'Zeca Pagodinho',\n 'Banda Black Rio',\n 'Santana Feat. Maná',\n 'João Suplicy',\n 'C. Monteverdi, Nigel Rogers - Chiaroscuro; London Baroque; London Cornett & Sackbu',\n 'Skank',\n 'Lenny Kravitz',\n 'Motörhead & Girlschool',\n 'Matisyahu',\n 'Nando Reis',\n 'Corinne Bailey Rae',\n 'Yo-Yo Ma',\n 'Equale Brass Ensemble, John Eliot Gardiner & Munich Monteverdi Orchestra and Choir',\n 'Queen',\n 'João Gilberto',\n 'Britten Sinfonia, Ivor Bolton & Lesley Garrett',\n 'Gonzaguinha',\n 'James Brown',\n 'Os Mutantes',\n \"Aerosmith & Sierra Leone's Refugee Allstars\",\n 'Ozzy Osbourne',\n 'Xis',\n 'Academy of St. Martin in the Fields, Sir Neville Marriner & Thurston Dart',\n 'Itzhak Perlman',\n 'Gene Krupa',\n 'Planet Hemp',\n 'Marcos Valle',\n 'Ney Matogrosso',\n 'Djavan',\n 'R.E.M. Feat. Kate Pearson',\n 'The Who',\n 'Avril Lavigne',\n 'Alice In Chains',\n 'DJ Dolores & Orchestra Santa Massa',\n 'System Of A Down',\n 'Cake',\n 'Karsh Kale',\n 'Christina Aguilera featuring BigElf',\n 'Sandra De Sá',\n 'Frank Sinatra',\n 'The Cult',\n 'Battlestar Galactica',\n 'Raimundos']"
     },
     "execution_count": 114,
     "metadata": {},
     "output_type": "execute_result"
    }
   ],
   "source": [
    "import ast\n",
    "import re\n",
    "\n",
    "\n",
    "def query_as_list(db, query):\n",
    "    res = db.run(query)\n",
    "    res = [el for sub in ast.literal_eval(res) for el in sub if el]\n",
    "    res = [re.sub(r\"\\b\\d+\\b\", \"\", string).strip() for string in res]\n",
    "    return list(set(res))\n",
    "\n",
    "\n",
    "artists = query_as_list(db, \"SELECT Name FROM Artist\")\n",
    "albums = query_as_list(db, \"SELECT Title FROM Album\")\n",
    "artists[:50]"
   ],
   "metadata": {
    "collapsed": false,
    "ExecuteTime": {
     "end_time": "2024-02-05T11:55:17.855252200Z",
     "start_time": "2024-02-05T11:55:17.847098600Z"
    }
   },
   "id": "3000bd894631cb7d",
   "execution_count": 114
  },
  {
   "cell_type": "code",
   "outputs": [],
   "source": [
    "from langchain.agents.agent_toolkits import create_retriever_tool\n",
    "\n",
    "vector_db = Annoy.from_texts(artists + albums, OpenAIEmbeddings())\n",
    "retriever = vector_db.as_retriever(search_kwargs={\"k\": 5})\n",
    "description = \"\"\"Use to look up values to filter on. Input is an approximate spelling of the proper noun, output is \\\n",
    "valid proper nouns. Use the noun most similar to the search.\"\"\"\n",
    "retriever_tool = create_retriever_tool(\n",
    "    retriever,\n",
    "    name=\"search_proper_nouns\",\n",
    "    description=description,\n",
    ")"
   ],
   "metadata": {
    "collapsed": false,
    "ExecuteTime": {
     "end_time": "2024-02-05T11:55:23.505175700Z",
     "start_time": "2024-02-05T11:55:17.857770300Z"
    }
   },
   "id": "ac6a70ab17cd97a5",
   "execution_count": 115
  },
  {
   "cell_type": "code",
   "outputs": [],
   "source": [
    "from langchain.agents import AgentType\n",
    "from langchain_community.agent_toolkits import create_sql_agent, SQLDatabaseToolkit\n",
    "from langchain_openai import ChatOpenAI\n",
    "\n",
    "llm = ChatOpenAI(model=\"gpt-3.5-turbo\", temperature=0)\n",
    "\n",
    "agent = create_sql_agent(\n",
    "    llm=llm,\n",
    "    db=db,\n",
    "    prompt=full_prompt,\n",
    "    verbose=True,\n",
    "    agent_type=\"openai-tools\",\n",
    ")"
   ],
   "metadata": {
    "collapsed": false,
    "ExecuteTime": {
     "end_time": "2024-02-05T11:55:23.916733700Z",
     "start_time": "2024-02-05T11:55:23.506679900Z"
    }
   },
   "id": "1d7ba3af7cb9354f",
   "execution_count": 116
  },
  {
   "cell_type": "code",
   "outputs": [
    {
     "name": "stdout",
     "output_type": "stream",
     "text": [
      "\n",
      "\n",
      "\u001B[1m> Entering new AgentExecutor chain...\u001B[0m\n",
      "\u001B[32;1m\u001B[1;3m\n",
      "Invoking: `sql_db_query` with `SELECT SUM(Total) AS TotalRevenue FROM Invoice`\n",
      "\n",
      "\n",
      "\u001B[0m\u001B[36;1m\u001B[1;3m[(2328.6,)]\u001B[0m\u001B[32;1m\u001B[1;3mThe total revenue from all sales is $2328.6.\u001B[0m\n",
      "\n",
      "\u001B[1m> Finished chain.\u001B[0m\n"
     ]
    },
    {
     "data": {
      "text/plain": "{'input': 'What was the total revenue from all sales?',\n 'output': 'The total revenue from all sales is $2328.6.'}"
     },
     "execution_count": 117,
     "metadata": {},
     "output_type": "execute_result"
    }
   ],
   "source": [
    "agent.invoke(\n",
    "    \"What was the total revenue from all sales?\"\n",
    ")"
   ],
   "metadata": {
    "collapsed": false,
    "ExecuteTime": {
     "end_time": "2024-02-05T11:55:26.971395200Z",
     "start_time": "2024-02-05T11:55:23.917780800Z"
    }
   },
   "id": "8d550ca3f578b599",
   "execution_count": 117
  },
  {
   "cell_type": "code",
   "outputs": [
    {
     "name": "stdout",
     "output_type": "stream",
     "text": [
      "\n",
      "\n",
      "\u001B[1m> Entering new AgentExecutor chain...\u001B[0m\n",
      "\u001B[32;1m\u001B[1;3m\n",
      "Invoking: `sql_db_query` with `SELECT AlbumId, SUM(UnitPrice * Quantity) AS Revenue FROM InvoiceLine GROUP BY AlbumId ORDER BY Revenue DESC LIMIT 1`\n",
      "\n",
      "\n",
      "\u001B[0m\u001B[36;1m\u001B[1;3mError: (sqlite3.OperationalError) no such column: AlbumId\n",
      "[SQL: SELECT AlbumId, SUM(UnitPrice * Quantity) AS Revenue FROM InvoiceLine GROUP BY AlbumId ORDER BY Revenue DESC LIMIT 1]\n",
      "(Background on this error at: https://sqlalche.me/e/20/e3q8)\u001B[0m\u001B[32;1m\u001B[1;3m\n",
      "Invoking: `sql_db_schema` with `InvoiceLine`\n",
      "\n",
      "\n",
      "\u001B[0m\u001B[33;1m\u001B[1;3m\n",
      "CREATE TABLE \"InvoiceLine\" (\n",
      "\t\"InvoiceLineId\" INTEGER NOT NULL, \n",
      "\t\"InvoiceId\" INTEGER NOT NULL, \n",
      "\t\"TrackId\" INTEGER NOT NULL, \n",
      "\t\"UnitPrice\" NUMERIC(10, 2) NOT NULL, \n",
      "\t\"Quantity\" INTEGER NOT NULL, \n",
      "\tPRIMARY KEY (\"InvoiceLineId\"), \n",
      "\tFOREIGN KEY(\"TrackId\") REFERENCES \"Track\" (\"TrackId\"), \n",
      "\tFOREIGN KEY(\"InvoiceId\") REFERENCES \"Invoice\" (\"InvoiceId\")\n",
      ")\n",
      "\n",
      "/*\n",
      "3 rows from InvoiceLine table:\n",
      "InvoiceLineId\tInvoiceId\tTrackId\tUnitPrice\tQuantity\n",
      "1\t1\t2\t0.99\t1\n",
      "2\t1\t4\t0.99\t1\n",
      "3\t2\t6\t0.99\t1\n",
      "*/\u001B[0m\u001B[32;1m\u001B[1;3m\n",
      "Invoking: `sql_db_query` with `SELECT Track.AlbumId, SUM(InvoiceLine.UnitPrice * InvoiceLine.Quantity) AS Revenue FROM InvoiceLine INNER JOIN Track ON InvoiceLine.TrackId = Track.TrackId GROUP BY Track.AlbumId ORDER BY Revenue DESC LIMIT 1`\n",
      "\n",
      "\n",
      "\u001B[0m\u001B[36;1m\u001B[1;3m[(253, 35.82)]\u001B[0m\u001B[32;1m\u001B[1;3m\n",
      "Invoking: `sql_db_query` with `SELECT Title FROM Album WHERE AlbumId = 253`\n",
      "\n",
      "\n",
      "\u001B[0m\u001B[36;1m\u001B[1;3m[('Battlestar Galactica (Classic), Season 1',)]\u001B[0m\u001B[32;1m\u001B[1;3mThe album that contributed the most to the total revenue is \"Battlestar Galactica (Classic), Season 1\".\u001B[0m\n",
      "\n",
      "\u001B[1m> Finished chain.\u001B[0m\n"
     ]
    },
    {
     "data": {
      "text/plain": "{'input': 'which album contributed the most to the total revenue?',\n 'output': 'The album that contributed the most to the total revenue is \"Battlestar Galactica (Classic), Season 1\".'}"
     },
     "execution_count": 118,
     "metadata": {},
     "output_type": "execute_result"
    }
   ],
   "source": [
    "agent.invoke(\n",
    "    \"which album contributed the most to the total revenue?\"\n",
    ")"
   ],
   "metadata": {
    "collapsed": false,
    "ExecuteTime": {
     "end_time": "2024-02-05T11:55:38.388322Z",
     "start_time": "2024-02-05T11:55:26.968390300Z"
    }
   },
   "id": "c2c74c21927439a5",
   "execution_count": 118
  },
  {
   "cell_type": "code",
   "outputs": [
    {
     "name": "stdout",
     "output_type": "stream",
     "text": [
      "\n",
      "\n",
      "\u001B[1m> Entering new AgentExecutor chain...\u001B[0m\n",
      "\u001B[32;1m\u001B[1;3m\n",
      "Invoking: `sql_db_query` with `SELECT Country, COUNT(*) AS Total FROM Customer WHERE CustomerId IN (SELECT CustomerId FROM Invoice WHERE InvoiceId IN (SELECT InvoiceId FROM InvoiceLine WHERE TrackId IN (SELECT TrackId FROM Track WHERE GenreId = (SELECT GenreId FROM Genre WHERE Name = 'Rock')))) GROUP BY Country ORDER BY Total DESC LIMIT 1`\n",
      "\n",
      "\n",
      "\u001B[0m\u001B[36;1m\u001B[1;3m[('USA', 13)]\u001B[0m\u001B[32;1m\u001B[1;3mThe country most likely to listen to rock music is the USA.\u001B[0m\n",
      "\n",
      "\u001B[1m> Finished chain.\u001B[0m\n"
     ]
    },
    {
     "data": {
      "text/plain": "{'input': 'Which country is most likely to listen to rock music?',\n 'output': 'The country most likely to listen to rock music is the USA.'}"
     },
     "execution_count": 119,
     "metadata": {},
     "output_type": "execute_result"
    }
   ],
   "source": [
    "agent.invoke(\n",
    "    \"Which country is most likely to listen to rock music?\"\n",
    ")"
   ],
   "metadata": {
    "collapsed": false,
    "ExecuteTime": {
     "end_time": "2024-02-05T11:55:43.881268900Z",
     "start_time": "2024-02-05T11:55:38.388322Z"
    }
   },
   "id": "460a6b35c83c9c5f",
   "execution_count": 119
  },
  {
   "cell_type": "code",
   "outputs": [
    {
     "name": "stdout",
     "output_type": "stream",
     "text": [
      "\n",
      "\n",
      "\u001B[1m> Entering new AgentExecutor chain...\u001B[0m\n",
      "\u001B[32;1m\u001B[1;3m\n",
      "Invoking: `sql_db_query` with `SELECT COUNT(*) FROM Album WHERE ArtistId = (SELECT ArtistId FROM Artist WHERE Name = 'Black Sabbath')`\n",
      "\n",
      "\n",
      "\u001B[0m\u001B[36;1m\u001B[1;3m[(2,)]\u001B[0m\u001B[32;1m\u001B[1;3mBlack Sabbath has 2 albums.\u001B[0m\n",
      "\n",
      "\u001B[1m> Finished chain.\u001B[0m\n"
     ]
    },
    {
     "data": {
      "text/plain": "{'input': 'How many albums does blacksabbath have?',\n 'output': 'Black Sabbath has 2 albums.'}"
     },
     "execution_count": 128,
     "metadata": {},
     "output_type": "execute_result"
    }
   ],
   "source": [
    "agent.invoke(\n",
    "    \"How many albums does blacksabbath have?\"\n",
    ")\n",
    "\n",
    "# agent.invoke(\n",
    "#     \"How many albums does alis in chain have?\"\n",
    "# )"
   ],
   "metadata": {
    "collapsed": false,
    "ExecuteTime": {
     "end_time": "2024-02-05T12:15:52.149251600Z",
     "start_time": "2024-02-05T12:15:49.052446200Z"
    }
   },
   "id": "48078d01345ad3cf",
   "execution_count": 128
  },
  {
   "cell_type": "code",
   "outputs": [
    {
     "name": "stdout",
     "output_type": "stream",
     "text": [
      "\n",
      "\n",
      "\u001B[1m> Entering new AgentExecutor chain...\u001B[0m\n",
      "\u001B[32;1m\u001B[1;3m\n",
      "Invoking: `sql_db_query` with `SELECT COUNT(*) FROM Invoice WHERE BillingCountry = 'USA'`\n",
      "\n",
      "\n",
      "\u001B[0m\u001B[36;1m\u001B[1;3m[(91,)]\u001B[0m\u001B[32;1m\u001B[1;3mThere were 91 albums sold in the USA.\u001B[0m\n",
      "\n",
      "\u001B[1m> Finished chain.\u001B[0m\n"
     ]
    },
    {
     "data": {
      "text/plain": "{'input': 'How many albums where sold in the usa?',\n 'output': 'There were 91 albums sold in the USA.'}"
     },
     "execution_count": 127,
     "metadata": {},
     "output_type": "execute_result"
    }
   ],
   "source": [
    "agent.invoke(\"How many albums where sold in the usa?\")\n",
    "\n",
    "# agent.invoke(\"How many albums where sold in USA?\")"
   ],
   "metadata": {
    "collapsed": false,
    "ExecuteTime": {
     "end_time": "2024-02-05T12:15:28.752227500Z",
     "start_time": "2024-02-05T12:15:25.577440200Z"
    }
   },
   "id": "f4e18ad09f4a90bc",
   "execution_count": 127
  },
  {
   "cell_type": "code",
   "outputs": [],
   "source": [],
   "metadata": {
    "collapsed": false
   },
   "id": "b833aedfea926aa0"
  }
 ],
 "metadata": {
  "kernelspec": {
   "display_name": "Python 3",
   "language": "python",
   "name": "python3"
  },
  "language_info": {
   "codemirror_mode": {
    "name": "ipython",
    "version": 2
   },
   "file_extension": ".py",
   "mimetype": "text/x-python",
   "name": "python",
   "nbconvert_exporter": "python",
   "pygments_lexer": "ipython2",
   "version": "2.7.6"
  }
 },
 "nbformat": 4,
 "nbformat_minor": 5
}
